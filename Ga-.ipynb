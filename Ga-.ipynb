{
 "cells": [
  {
   "cell_type": "code",
   "execution_count": 1,
   "metadata": {},
   "outputs": [],
   "source": [
    "import numpy as np\n",
    "import pandas as pd \n",
    "import matplotlib.pyplot as plt\n",
    "import random\n",
    "import time"
   ]
  },
  {
   "cell_type": "code",
   "execution_count": 2,
   "metadata": {},
   "outputs": [],
   "source": [
    "LENGTH = 40\n",
    "SIZE = 10\n",
    "MAX_WEIGHT = 10.0\n",
    "MAX_VALUE = 10.0\n",
    "LIMIT = 100.0\n",
    "G_END = 2000\n",
    "PROB = 0.01\n",
    "PROB2 = 0.5\n",
    "\n",
    "gene = np.zeros((2*SIZE,LENGTH),dtype=int)\n",
    "next_gene = np.zeros((2*SIZE,LENGTH),dtype=int)\n",
    "weight = [0.0]*LENGTH\n",
    "value = [0.0]*LENGTH\n",
    "total_weight = [0.0]*(2*SIZE)\n",
    "total_value = [0.0]*(2*SIZE)\n",
    "v_sort = [0]*(2*SIZE)\n",
    "\n",
    "#print (gene)\n",
    "#print(weight)\n",
    "#イニシャライズ\n",
    "for k in np.arange(0,SIZE):\n",
    "    for l in np.arange(0,LENGTH):\n",
    "        if random.random() < PROB2:\n",
    "           gene[k,l]=1\n",
    "           \n",
    "#品物の重さと価値の設定\n",
    "for l in np.arange(0,LENGTH):\n",
    "    weight[l]=MAX_WEIGHT*random.random()\n",
    "    value[l]=MAX_VALUE*random.random()\n",
    "\n",
    "#メインははじまり\n",
    "for g in np.arange(1,G_END+1):\n",
    "    \n",
    "    #交差\n",
    "    for k in np.arange(0,SIZE,2):\n",
    "        #k=k+2\n",
    "        l_rand = random.randrange(LENGTH)\n",
    "        #print(l_rand)\n",
    "        #a=input()\n",
    "        for l in np.arange(0,l_rand):\n",
    "            gene[k+SIZE][l]=gene[k][l]\n",
    "        for l in np.arange(l_rand,LENGTH):\n",
    "            gene[k+SIZE][l]=gene[k+1][l]\n",
    "        for l in np.arange(0,l_rand):\n",
    "            gene[k+SIZE+1][l]=gene[k+1][l]\n",
    "        for l in np.arange(l_rand,LENGTH):\n",
    "            gene[k+SIZE+1][l]=gene[k][l]\n",
    "            \n",
    "    # 突然変異\n",
    "    for k in np.arange(SIZE,2*SIZE):\n",
    "        for l in np.arange(0,LENGTH):\n",
    "            if random.random() < PROB:\n",
    "                gene[k][l]=1-gene[k][l]\n",
    "                \n",
    "    #目的関数の計算\n",
    "    for k in np.arange(0,2*SIZE):\n",
    "        total_weight[k]=0.0\n",
    "        total_value[k]=0.0\n",
    "        for l in np.arange(0,LENGTH):\n",
    "            total_weight[k]=total_weight[k]+gene[k][l]*weight[l]\n",
    "            total_value[k]=total_value[k]+gene[k][l]*value[l]\n",
    "        if total_weight[k]>LIMIT:\n",
    "            total_value[k]=0.0\n",
    "            \n",
    "    #ソート\n",
    "    for k in np.arange(0,2*SIZE):\n",
    "        v_sort[k]=k\n",
    "    for k in np.arange(0,2*SIZE):\n",
    "        for k_sort in np.arange(k+1,2*SIZE):\n",
    "            if total_value[k] <total_value[k_sort]:\n",
    "                swap                = total_value[k_sort]\n",
    "                total_value[k_sort] = total_value[k]\n",
    "                total_value[k]      = swap\n",
    "                i_swap              = v_sort[k_sort]\n",
    "                v_sort[k_sort]      = v_sort[k]\n",
    "                v_sort[k]           = i_swap       \n",
    "                \n",
    "    #新世代に置き換え\n",
    "    for k in np.arange(0,2*SIZE):\n",
    "        for l in np.arange(0,LENGTH):\n",
    "            next_gene[k][l] = gene[v_sort[k]][l]\n",
    "    for k in np.arange(0,2*SIZE):\n",
    "        for l in np.arange(0,LENGTH):\n",
    "            gene[k][l] = next_gene[k][l]"
   ]
  },
  {
   "cell_type": "code",
   "execution_count": 3,
   "metadata": {},
   "outputs": [
    {
     "name": "stdout",
     "output_type": "stream",
     "text": [
<<<<<<< HEAD
      "  99.602  146.090\n"
=======
      "  99.983  122.513\n"
>>>>>>> 2fea0ea83dbf8b30c980061651661df45009ca7f
     ]
    }
   ],
   "source": [
    "print(\"{:8.3f} {:8.3f}\".format(total_weight[v_sort[0]], total_value[0]))"
   ]
  }
 ],
 "metadata": {
  "kernelspec": {
   "display_name": "base",
   "language": "python",
   "name": "python3"
  },
  "language_info": {
   "codemirror_mode": {
    "name": "ipython",
    "version": 3
   },
   "file_extension": ".py",
   "mimetype": "text/x-python",
   "name": "python",
   "nbconvert_exporter": "python",
   "pygments_lexer": "ipython3",
   "version": "3.11.7"
  }
 },
 "nbformat": 4,
 "nbformat_minor": 2
}
