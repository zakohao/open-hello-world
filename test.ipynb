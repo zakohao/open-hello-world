{
 "cells": [
  {
   "cell_type": "code",
   "execution_count": 2,
   "metadata": {},
   "outputs": [],
   "source": [
    "%matplotlib inline\n",
    "import numpy as np\n",
    "import pandas as pd \n",
    "import matplotlib.pyplot as plt\n",
    "import matplotlib.dates as mdates\n",
    "import matplotlib.patches as mpatches\n",
    "import random\n",
    "import time\n",
    "pd.set_option('display.max_columns',None)\n",
    "pd.set_option('display.max_rows',None)"
   ]
  },
  {
   "cell_type": "code",
   "execution_count": null,
   "metadata": {},
   "outputs": [],
   "source": [
    "LENGTH=100\n",
    "random.seed(5)\n",
    "state_M=np.zeros(4,dtype=int)\n",
    "state_J=0\n",
    "MS_J1=np.array([1,2,4])\n",
    "T_J1=np.array([8,16,12])\n",
    "check_J1=np.zeros(3,dtype=int)\n",
    "gantt_chart = pd.DataFrame({\n",
    "    'M1':np.zeros(LENGTH),\n",
    "    'M2':np.zeros(LENGTH),\n",
    "    'M3':np.zeros(LENGTH),\n",
    "    'M4':np.zeros(LENGTH)},\n",
    "    index = [np.arange(1,LENGTH+1)],dtype=int)"
   ]
  },
  {
   "cell_type": "code",
   "execution_count": null,
   "metadata": {},
   "outputs": [],
   "source": [
    "for t in np.arange(1,LENGTH+1):\n",
    "    if np.any(state_M==0) :\n",
    "        if state_J == 0:\n",
    "            for i in np.arange(3):\n",
    "                if state_J==0:        \n",
    "                    if check_J1[i]==0:\n",
    "                        if i==0 or (i>0  and check_J1[i-1]==1) :\n",
    "                            m=MS_J1[i]-1\n",
    "                            if state_M[m]==0:\n",
    "                                gantt_chart.iloc[t-1:t-1+T_J1[i],m]=1\n",
    "                                state_M[m] += T_J1[i]                       \n",
    "                                state_J += T_J1[i]\n",
    "                                check_J1[i] = 1                           \n",
    "    state_J -= 1\n",
    "    state_M[state_M !=0] -= 1 \n",
    "    if np.all(check_J1==1):\n",
    "        break\n",
    "    \n",
    "print(gantt_chart)\n",
    "print(state_J)\n",
    "print(state_M)\n",
    "print(check_J1)\n",
    "print(t)\n",
    "                    \n",
    "raw_data=gantt_chart\n",
    "np.savetxt(fname='d:/pysrc/data/gantt_chart_simple.csv',X=raw_data,fmt='%0d',delimiter=',')"
   ]
  },
  {
   "cell_type": "code",
   "execution_count": null,
   "metadata": {},
   "outputs": [],
   "source": [
    "import itertools\n",
    "import math\n",
    "\n",
    "list_arrange_J1 = list(itertools.permutations(np.arange(0,5)))\n",
    "print(list_arrange_J1)\n",
    "for a in list_arrange_J1:\n",
    "    for j in a :\n",
    "        print(j)\n",
    "    print('')\n",
    "\n",
    "\n",
    "\n",
    "\n"
   ]
  },
  {
   "cell_type": "code",
   "execution_count": 1,
   "metadata": {},
   "outputs": [
    {
     "data": {
      "image/png": "[encoded data removed]",
      "text/plain": [
       "<Figure size 640x480 with 1 Axes>"
      ]
     },
     "metadata": {},
     "output_type": "display_data"
    }
   ],
   "source": [
    "import numpy as np\n",
    "import matplotlib.pyplot as plt\n",
    "\n",
    "# 设置参数\n",
    "mean1, std_dev1 = 0, 1   # 第一峰值的均值和标准差\n",
    "mean2, std_dev2 = 5, 1.5 # 第二峰值的均值和标准差\n",
    "size = 1000  # 样本总数\n",
    "weight1, weight2 = 0.5, 0.5  # 两个分布的权重（权重和需为1）\n",
    "\n",
    "# 生成随机数\n",
    "data1 = np.random.normal(mean1, std_dev1, int(size * weight1))\n",
    "data2 = np.random.normal(mean2, std_dev2, int(size * weight2))\n",
    "\n",
    "# 合并数据\n",
    "data = np.concatenate([data1, data2])\n",
    "\n",
    "# 绘制直方图\n",
    "plt.hist(data, bins=30, density=True, alpha=0.6, color='blue', edgecolor='black')\n",
    "\n",
    "# 标题和标签\n",
    "plt.title(\"Bimodal Normal Distribution\")\n",
    "plt.xlabel(\"Value\")\n",
    "plt.ylabel(\"Density\")\n",
    "plt.show()\n"
   ]
  },
  {
   "cell_type": "code",
   "execution_count": 99,
   "metadata": {},
   "outputs": [
    {
     "name": "stdout",
     "output_type": "stream",
     "text": [
      "1\n"
     ]
    }
   ],
   "source": [
    "gene_o = random.randint(1,10)\n",
    "print(gene_o)"
   ]
  }
 ],
 "metadata": {
  "kernelspec": {
   "display_name": "base",
   "language": "python",
   "name": "python3"
  },
  "language_info": {
   "codemirror_mode": {
    "name": "ipython",
    "version": 3
   },
   "file_extension": ".py",
   "mimetype": "text/x-python",
   "name": "python",
   "nbconvert_exporter": "python",
   "pygments_lexer": "ipython3",
   "version": "3.11.7"
  }
 },
 "nbformat": 4,
 "nbformat_minor": 2
}
