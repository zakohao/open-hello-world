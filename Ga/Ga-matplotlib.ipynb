{
 "cells": [
  {
   "cell_type": "code",
   "execution_count": 6,
   "metadata": {},
   "outputs": [],
   "source": [
    "%matplotlib inline\n",
    "import numpy as np\n",
    "import pandas as pd \n",
    "import matplotlib.pyplot as plt\n",
    "import random\n",
    "import time"
   ]
  },
  {
   "cell_type": "code",
   "execution_count": 7,
   "metadata": {},
   "outputs": [
    {
     "name": "stderr",
     "output_type": "stream",
     "text": [
      "C:\\Users\\G15\\AppData\\Local\\Temp\\ipykernel_21236\\3854715839.py:97: FutureWarning: Setting an item of incompatible dtype is deprecated and will raise in a future error of pandas. Value '96.24676324747705' has dtype incompatible with int32, please explicitly cast to a compatible dtype first.\n",
      "  df_weight.iloc[g-1,1]=total_weight[v_sort[0]]\n",
      "C:\\Users\\G15\\AppData\\Local\\Temp\\ipykernel_21236\\3854715839.py:98: FutureWarning: Setting an item of incompatible dtype is deprecated and will raise in a future error of pandas. Value '101.57979504712262' has dtype incompatible with int32, please explicitly cast to a compatible dtype first.\n",
      "  df_value.iloc[g-1,1]=total_value[0]\n"
     ]
    }
   ],
   "source": [
    "LENGTH = 40\n",
    "SIZE = 10\n",
    "MAX_WEIGHT = 10.0\n",
    "MAX_VALUE = 10.0\n",
    "LIMIT = 100.0\n",
    "G_END = 2000\n",
    "PROB = 0.01\n",
    "PROB2 = 0.5\n",
    "\n",
    "gene = np.zeros((2*SIZE,LENGTH),dtype=int)\n",
    "next_gene = np.zeros((2*SIZE,LENGTH),dtype=int)\n",
    "weight = [0.0]*LENGTH\n",
    "value = [0.0]*LENGTH\n",
    "total_weight = [0.0]*(2*SIZE)\n",
    "total_value = [0.0]*(2*SIZE)\n",
    "v_sort = [0]*(2*SIZE)\n",
    "\n",
    "df_weight = pd.DataFrame({\n",
    "    'xdf':np.arange(1,G_END+1),\n",
    "    'ydf':np.arange(1,G_END+1)},\n",
    "    index = np.arange(1,G_END+1))\n",
    "\n",
    "df_value = pd.DataFrame({\n",
    "    'xdf':np.arange(1,G_END+1),\n",
    "    'ydf':np.arange(1,G_END+1)},\n",
    "    index = np.arange(1,G_END+1))\n",
    "\n",
    "\n",
    "#print (gene)\n",
    "#print(weight)\n",
    "#イニシャライズ\n",
    "for k in np.arange(0,SIZE):\n",
    "    for l in np.arange(0,LENGTH):\n",
    "        if random.random() < PROB2:\n",
    "           gene[k,l]=1\n",
    "           \n",
    "#品物の重さと価値の設定\n",
    "for l in np.arange(0,LENGTH):\n",
    "    weight[l]=MAX_WEIGHT*random.random()\n",
    "    value[l]=MAX_VALUE*random.random()\n",
    "\n",
    "#メインははじまり\n",
    "for g in np.arange(1,G_END+1):\n",
    "    \n",
    "    #交差\n",
    "    for k in np.arange(0,SIZE,2):\n",
    "        #k=k+2\n",
    "        l_rand = random.randrange(LENGTH)\n",
    "        #print(l_rand)\n",
    "        #a=input()\n",
    "        for l in np.arange(0,l_rand):\n",
    "            gene[k+SIZE][l]=gene[k][l]\n",
    "        for l in np.arange(l_rand,LENGTH):\n",
    "            gene[k+SIZE][l]=gene[k+1][l]\n",
    "        for l in np.arange(0,l_rand):\n",
    "            gene[k+SIZE+1][l]=gene[k+1][l]\n",
    "        for l in np.arange(l_rand,LENGTH):\n",
    "            gene[k+SIZE+1][l]=gene[k][l]\n",
    "            \n",
    "    # 突然変異\n",
    "    for k in np.arange(SIZE,2*SIZE):\n",
    "        for l in np.arange(0,LENGTH):\n",
    "            if random.random() < PROB:\n",
    "                gene[k][l]=1-gene[k][l]\n",
    "                \n",
    "    #目的関数の計算\n",
    "    for k in np.arange(0,2*SIZE):\n",
    "        total_weight[k]=0.0\n",
    "        total_value[k]=0.0\n",
    "        for l in np.arange(0,LENGTH):\n",
    "            total_weight[k]=total_weight[k]+gene[k][l]*weight[l]\n",
    "            total_value[k]=total_value[k]+gene[k][l]*value[l]\n",
    "        if total_weight[k]>LIMIT:\n",
    "            total_value[k]=0.0\n",
    "            \n",
    "    #ソート\n",
    "    for k in np.arange(0,2*SIZE):\n",
    "        v_sort[k]=k\n",
    "    for k in np.arange(0,2*SIZE):\n",
    "        for k_sort in np.arange(k+1,2*SIZE):\n",
    "            if total_value[k] <total_value[k_sort]:\n",
    "                swap                = total_value[k_sort]\n",
    "                total_value[k_sort] = total_value[k]\n",
    "                total_value[k]      = swap\n",
    "                i_swap              = v_sort[k_sort]\n",
    "                v_sort[k_sort]      = v_sort[k]\n",
    "                v_sort[k]           = i_swap       \n",
    "                \n",
    "    #新世代に置き換え\n",
    "    for k in np.arange(0,2*SIZE):\n",
    "        for l in np.arange(0,LENGTH):\n",
    "            next_gene[k][l] = gene[v_sort[k]][l]\n",
    "    for k in np.arange(0,2*SIZE):\n",
    "        for l in np.arange(0,LENGTH):\n",
    "            gene[k][l] = next_gene[k][l]\n",
    "            \n",
    "    df_weight.iloc[g-1,1]=total_weight[v_sort[0]]\n",
    "    df_value.iloc[g-1,1]=total_value[0]"
   ]
  },
  {
   "cell_type": "code",
   "execution_count": 8,
   "metadata": {},
   "outputs": [
    {
     "name": "stdout",
     "output_type": "stream",
     "text": [
      "  99.869  146.121\n"
     ]
    }
   ],
   "source": [
    "print(\"{:8.3f} {:8.3f}\".format(total_weight[v_sort[0]], total_value[0]))"
   ]
  },
  {
   "cell_type": "code",
   "execution_count": 9,
   "metadata": {},
   "outputs": [
    {
     "data": {
      "text/html": [
       "<div>\n",
       "<style scoped>\n",
       "    .dataframe tbody tr th:only-of-type {\n",
       "        vertical-align: middle;\n",
       "    }\n",
       "\n",
       "    .dataframe tbody tr th {\n",
       "        vertical-align: top;\n",
       "    }\n",
       "\n",
       "    .dataframe thead th {\n",
       "        text-align: right;\n",
       "    }\n",
       "</style>\n",
       "<table border=\"1\" class=\"dataframe\">\n",
       "  <thead>\n",
       "    <tr style=\"text-align: right;\">\n",
       "      <th></th>\n",
       "      <th>xdf</th>\n",
       "      <th>ydf</th>\n",
       "    </tr>\n",
       "  </thead>\n",
       "  <tbody>\n",
       "    <tr>\n",
       "      <th>1</th>\n",
       "      <td>1</td>\n",
       "      <td>96.246763</td>\n",
       "    </tr>\n",
       "    <tr>\n",
       "      <th>2</th>\n",
       "      <td>2</td>\n",
       "      <td>96.246763</td>\n",
       "    </tr>\n",
       "    <tr>\n",
       "      <th>3</th>\n",
       "      <td>3</td>\n",
       "      <td>96.246763</td>\n",
       "    </tr>\n",
       "    <tr>\n",
       "      <th>4</th>\n",
       "      <td>4</td>\n",
       "      <td>96.318453</td>\n",
       "    </tr>\n",
       "    <tr>\n",
       "      <th>5</th>\n",
       "      <td>5</td>\n",
       "      <td>96.318453</td>\n",
       "    </tr>\n",
       "    <tr>\n",
       "      <th>...</th>\n",
       "      <td>...</td>\n",
       "      <td>...</td>\n",
       "    </tr>\n",
       "    <tr>\n",
       "      <th>1996</th>\n",
       "      <td>1996</td>\n",
       "      <td>99.869242</td>\n",
       "    </tr>\n",
       "    <tr>\n",
       "      <th>1997</th>\n",
       "      <td>1997</td>\n",
       "      <td>99.869242</td>\n",
       "    </tr>\n",
       "    <tr>\n",
       "      <th>1998</th>\n",
       "      <td>1998</td>\n",
       "      <td>99.869242</td>\n",
       "    </tr>\n",
       "    <tr>\n",
       "      <th>1999</th>\n",
       "      <td>1999</td>\n",
       "      <td>99.869242</td>\n",
       "    </tr>\n",
       "    <tr>\n",
       "      <th>2000</th>\n",
       "      <td>2000</td>\n",
       "      <td>99.869242</td>\n",
       "    </tr>\n",
       "  </tbody>\n",
       "</table>\n",
       "<p>2000 rows × 2 columns</p>\n",
       "</div>"
      ],
      "text/plain": [
       "       xdf        ydf\n",
       "1        1  96.246763\n",
       "2        2  96.246763\n",
       "3        3  96.246763\n",
       "4        4  96.318453\n",
       "5        5  96.318453\n",
       "...    ...        ...\n",
       "1996  1996  99.869242\n",
       "1997  1997  99.869242\n",
       "1998  1998  99.869242\n",
       "1999  1999  99.869242\n",
       "2000  2000  99.869242\n",
       "\n",
       "[2000 rows x 2 columns]"
      ]
     },
     "metadata": {},
     "output_type": "display_data"
    },
    {
     "data": {
      "text/plain": [
       "<function matplotlib.pyplot.show(close=None, block=None)>"
      ]
     },
     "execution_count": 9,
     "metadata": {},
     "output_type": "execute_result"
    },
    {
     "data": {
      "image/png": "[encoded data removed]",
      "text/plain": [
       "<Figure size 640x480 with 1 Axes>"
      ]
     },
     "metadata": {},
     "output_type": "display_data"
    }
   ],
   "source": [
    "display(df_weight)\n",
    "plt.plot('xdf','ydf',data=df_weight)\n",
    "plt.show"
   ]
  },
  {
   "cell_type": "code",
   "execution_count": 10,
   "metadata": {},
   "outputs": [
    {
     "data": {
      "text/html": [
       "<div>\n",
       "<style scoped>\n",
       "    .dataframe tbody tr th:only-of-type {\n",
       "        vertical-align: middle;\n",
       "    }\n",
       "\n",
       "    .dataframe tbody tr th {\n",
       "        vertical-align: top;\n",
       "    }\n",
       "\n",
       "    .dataframe thead th {\n",
       "        text-align: right;\n",
       "    }\n",
       "</style>\n",
       "<table border=\"1\" class=\"dataframe\">\n",
       "  <thead>\n",
       "    <tr style=\"text-align: right;\">\n",
       "      <th></th>\n",
       "      <th>xdf</th>\n",
       "      <th>ydf</th>\n",
       "    </tr>\n",
       "  </thead>\n",
       "  <tbody>\n",
       "    <tr>\n",
       "      <th>1</th>\n",
       "      <td>1</td>\n",
       "      <td>101.579795</td>\n",
       "    </tr>\n",
       "    <tr>\n",
       "      <th>2</th>\n",
       "      <td>2</td>\n",
       "      <td>101.579795</td>\n",
       "    </tr>\n",
       "    <tr>\n",
       "      <th>3</th>\n",
       "      <td>3</td>\n",
       "      <td>101.579795</td>\n",
       "    </tr>\n",
       "    <tr>\n",
       "      <th>4</th>\n",
       "      <td>4</td>\n",
       "      <td>101.753548</td>\n",
       "    </tr>\n",
       "    <tr>\n",
       "      <th>5</th>\n",
       "      <td>5</td>\n",
       "      <td>101.753548</td>\n",
       "    </tr>\n",
       "    <tr>\n",
       "      <th>...</th>\n",
       "      <td>...</td>\n",
       "      <td>...</td>\n",
       "    </tr>\n",
       "    <tr>\n",
       "      <th>1996</th>\n",
       "      <td>1996</td>\n",
       "      <td>146.121492</td>\n",
       "    </tr>\n",
       "    <tr>\n",
       "      <th>1997</th>\n",
       "      <td>1997</td>\n",
       "      <td>146.121492</td>\n",
       "    </tr>\n",
       "    <tr>\n",
       "      <th>1998</th>\n",
       "      <td>1998</td>\n",
       "      <td>146.121492</td>\n",
       "    </tr>\n",
       "    <tr>\n",
       "      <th>1999</th>\n",
       "      <td>1999</td>\n",
       "      <td>146.121492</td>\n",
       "    </tr>\n",
       "    <tr>\n",
       "      <th>2000</th>\n",
       "      <td>2000</td>\n",
       "      <td>146.121492</td>\n",
       "    </tr>\n",
       "  </tbody>\n",
       "</table>\n",
       "<p>2000 rows × 2 columns</p>\n",
       "</div>"
      ],
      "text/plain": [
       "       xdf         ydf\n",
       "1        1  101.579795\n",
       "2        2  101.579795\n",
       "3        3  101.579795\n",
       "4        4  101.753548\n",
       "5        5  101.753548\n",
       "...    ...         ...\n",
       "1996  1996  146.121492\n",
       "1997  1997  146.121492\n",
       "1998  1998  146.121492\n",
       "1999  1999  146.121492\n",
       "2000  2000  146.121492\n",
       "\n",
       "[2000 rows x 2 columns]"
      ]
     },
     "metadata": {},
     "output_type": "display_data"
    },
    {
     "data": {
      "text/plain": [
       "<function matplotlib.pyplot.show(close=None, block=None)>"
      ]
     },
     "execution_count": 10,
     "metadata": {},
     "output_type": "execute_result"
    },
    {
     "data": {
      "image/png": "[encoded data removed]",
      "text/plain": [
       "<Figure size 640x480 with 1 Axes>"
      ]
     },
     "metadata": {},
     "output_type": "display_data"
    }
   ],
   "source": [
    "display(df_value)\n",
    "plt.plot('xdf','ydf',data=df_value)\n",
    "plt.show"
   ]
  }
 ],
 "metadata": {
  "kernelspec": {
   "display_name": "base",
   "language": "python",
   "name": "python3"
  },
  "language_info": {
   "codemirror_mode": {
    "name": "ipython",
    "version": 3
   },
   "file_extension": ".py",
   "mimetype": "text/x-python",
   "name": "python",
   "nbconvert_exporter": "python",
   "pygments_lexer": "ipython3",
   "version": "3.11.7"
  }
 },
 "nbformat": 4,
 "nbformat_minor": 2
}
